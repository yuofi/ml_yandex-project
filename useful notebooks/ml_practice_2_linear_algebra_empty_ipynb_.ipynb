{
  "cells": [
    {
      "cell_type": "markdown",
      "metadata": {
        "id": "ZW6meUY_-yEA"
      },
      "source": [
        "#  **Практическое занятие №2. Линейная алгебра.**"
      ]
    },
    {
      "cell_type": "markdown",
      "metadata": {
        "id": "cEQvIstH-yEC"
      },
      "source": [
        "## Знакомство с библиотекой **NumPy**"
      ]
    },
    {
      "cell_type": "markdown",
      "metadata": {
        "id": "47x4Wl7H-yEC"
      },
      "source": [
        "numpy - библиотека для быстрой работы с большими массивами и матрицами\n",
        "\n",
        "https://numpy.org/doc/stable/user/quickstart.html"
      ]
    },
    {
      "cell_type": "code",
      "execution_count": 2,
      "metadata": {
        "id": "NoQQWLca-yEC"
      },
      "outputs": [],
      "source": [
        "import numpy as np"
      ]
    },
    {
      "cell_type": "markdown",
      "metadata": {
        "id": "3s-haQMUBPYX"
      },
      "source": [
        "### Мотивация: numpy vs python"
      ]
    },
    {
      "cell_type": "code",
      "execution_count": null,
      "metadata": {
        "id": "daF-Y35wBIOB"
      },
      "outputs": [],
      "source": [
        "import time\n",
        "\n",
        "arr_size = 1000000\n",
        "iter_num = 900"
      ]
    },
    {
      "cell_type": "code",
      "execution_count": null,
      "metadata": {
        "colab": {
          "base_uri": "https://localhost:8080/"
        },
        "id": "yuSPDlyb_hw7",
        "outputId": "3efa4558-15b0-4cdd-8b95-072969164893"
      },
      "outputs": [
        {
          "name": "stdout",
          "output_type": "stream",
          "text": [
            "Finished in 7.15435 s: 7.94928 ms per iteration\n"
          ]
        }
      ],
      "source": [
        "# time pure python list sum\n",
        "x = list(range(arr_size))\n",
        "\n",
        "s = time.time()\n",
        "\n",
        "for i in range(iter_num):\n",
        "    sum(x)\n",
        "\n",
        "t = time.time() - s\n",
        "\n",
        "print(f'Finished in {t:.5f} s: {(t * 1000 / iter_num):.5f} ms per iteration')"
      ]
    },
    {
      "cell_type": "code",
      "execution_count": null,
      "metadata": {
        "colab": {
          "base_uri": "https://localhost:8080/"
        },
        "id": "cFri_VC2A2B8",
        "outputId": "c8c5e77f-91e8-4091-c72b-666b378dc03a"
      },
      "outputs": [
        {
          "name": "stdout",
          "output_type": "stream",
          "text": [
            "Finished in 0.33990 s: 0.37766 ms per iteration\n"
          ]
        }
      ],
      "source": [
        "# time numpy array sum\n",
        "x = np.arange(arr_size)\n",
        "\n",
        "s = time.time()\n",
        "\n",
        "for i in range(iter_num):\n",
        "    np.sum(x)\n",
        "\n",
        "t = time.time() - s\n",
        "\n",
        "print(f'Finished in {t:.5f} s: {(t * 1000 / iter_num):.5f} ms per iteration')"
      ]
    },
    {
      "cell_type": "markdown",
      "metadata": {
        "id": "0AmdQiKiDJoy"
      },
      "source": [
        "### Basics"
      ]
    },
    {
      "cell_type": "markdown",
      "metadata": {
        "id": "n7Wsigao-yED"
      },
      "source": [
        "#### Создание массива\n",
        "https://numpy.org/doc/stable/reference/routines.array-creation.*html*"
      ]
    },
    {
      "cell_type": "code",
      "execution_count": null,
      "metadata": {
        "colab": {
          "base_uri": "https://localhost:8080/"
        },
        "id": "8q1-bPKI-yED",
        "outputId": "b6a439c8-6856-444f-a407-55675d9f37ac"
      },
      "outputs": [
        {
          "data": {
            "text/plain": [
              "array([[1, 2, 3],\n",
              "       [4, 5, 6]])"
            ]
          },
          "execution_count": 11,
          "metadata": {},
          "output_type": "execute_result"
        }
      ],
      "source": [
        "# создать явно\n",
        "np.array([[1, 2, 3], [4, 5, 6]])"
      ]
    },
    {
      "cell_type": "code",
      "execution_count": null,
      "metadata": {
        "colab": {
          "base_uri": "https://localhost:8080/"
        },
        "id": "_EYSW0C4-yEE",
        "outputId": "7e5d768b-f077-42b9-e49c-8d80a7a1181b"
      },
      "outputs": [
        {
          "data": {
            "text/plain": [
              "array([[0., 0., 0.],\n",
              "       [0., 0., 0.]])"
            ]
          },
          "execution_count": 12,
          "metadata": {},
          "output_type": "execute_result"
        }
      ],
      "source": [
        "# нулевой массив заданного размера\n",
        "np.zeros((2, 3))"
      ]
    },
    {
      "cell_type": "code",
      "execution_count": null,
      "metadata": {
        "colab": {
          "base_uri": "https://localhost:8080/"
        },
        "id": "vowiu8CcWOUU",
        "outputId": "bb1ee899-7672-4eb6-a207-59a45664e927"
      },
      "outputs": [
        {
          "data": {
            "text/plain": [
              "array([[0, 0, 0],\n",
              "       [0, 0, 0]])"
            ]
          },
          "execution_count": 13,
          "metadata": {},
          "output_type": "execute_result"
        }
      ],
      "source": [
        "# нулевой массив такого же размера, как другой\n",
        "a = np.array([[1, 2, 3], [4, 5, 6]])\n",
        "np.zeros_like(a)"
      ]
    },
    {
      "cell_type": "code",
      "execution_count": null,
      "metadata": {
        "colab": {
          "base_uri": "https://localhost:8080/"
        },
        "id": "cqiE9igBWjRO",
        "outputId": "333b7e58-f92a-4fb2-cd3e-6e827a29ae36"
      },
      "outputs": [
        {
          "data": {
            "text/plain": [
              "array([[1., 1., 1.],\n",
              "       [1., 1., 1.]])"
            ]
          },
          "execution_count": 14,
          "metadata": {},
          "output_type": "execute_result"
        }
      ],
      "source": [
        "# массив единиц заданного размера\n",
        "np.ones((2, 3))"
      ]
    },
    {
      "cell_type": "code",
      "execution_count": null,
      "metadata": {
        "colab": {
          "base_uri": "https://localhost:8080/"
        },
        "id": "fukbvD8XWpi5",
        "outputId": "87e19333-8e79-4076-94c9-d502f3b628ce"
      },
      "outputs": [
        {
          "data": {
            "text/plain": [
              "array([[1, 1, 1],\n",
              "       [1, 1, 1]])"
            ]
          },
          "execution_count": 15,
          "metadata": {},
          "output_type": "execute_result"
        }
      ],
      "source": [
        "# массив единиц такого же размера, как другой\n",
        "a = np.array([[1, 2, 3], [4, 5, 6]])\n",
        "np.ones_like(a)"
      ]
    },
    {
      "cell_type": "code",
      "execution_count": null,
      "metadata": {
        "colab": {
          "base_uri": "https://localhost:8080/"
        },
        "id": "V9qdC1gEyULu",
        "outputId": "208f3cf7-9132-42a8-f8ba-59b768d6fe91"
      },
      "outputs": [
        {
          "data": {
            "text/plain": [
              "array([[5, 5, 5],\n",
              "       [5, 5, 5]])"
            ]
          },
          "execution_count": 16,
          "metadata": {},
          "output_type": "execute_result"
        }
      ],
      "source": [
        "# массив, заполненный конкретным числом\n",
        "np.full((2, 3), 5)"
      ]
    },
    {
      "cell_type": "code",
      "execution_count": null,
      "metadata": {
        "colab": {
          "base_uri": "https://localhost:8080/"
        },
        "id": "JYAMXeUcW5b2",
        "outputId": "0230d9a5-8bbe-4634-cec2-3b03ad7792fa"
      },
      "outputs": [
        {
          "data": {
            "text/plain": [
              "array([[4, 4, 4],\n",
              "       [4, 4, 4]])"
            ]
          },
          "execution_count": 17,
          "metadata": {},
          "output_type": "execute_result"
        }
      ],
      "source": [
        "# массив, заполненный конкретным числом\n",
        "a = np.array([[1, 2, 3], [4, 5, 6]])\n",
        "np.full_like(a, 4)"
      ]
    },
    {
      "cell_type": "code",
      "execution_count": null,
      "metadata": {
        "colab": {
          "base_uri": "https://localhost:8080/"
        },
        "id": "6rVliSiE-yEG",
        "outputId": "16bc7c9e-e965-489f-de4c-625398c588ca"
      },
      "outputs": [
        {
          "data": {
            "text/plain": [
              "array([[1., 0., 0.],\n",
              "       [0., 1., 0.],\n",
              "       [0., 0., 1.]])"
            ]
          },
          "execution_count": 18,
          "metadata": {},
          "output_type": "execute_result"
        }
      ],
      "source": [
        "# создать единичную матрицу (двумерный массив)\n",
        "np.eye(3)"
      ]
    },
    {
      "cell_type": "code",
      "execution_count": null,
      "metadata": {
        "colab": {
          "base_uri": "https://localhost:8080/"
        },
        "id": "BOFX0OB1-yEG",
        "outputId": "cb2ef3d6-6ae6-4adf-d1a8-a1776fd11bea"
      },
      "outputs": [
        {
          "data": {
            "text/plain": [
              "array([10,  9,  8,  7,  6,  5,  4,  3,  2])"
            ]
          },
          "execution_count": 19,
          "metadata": {},
          "output_type": "execute_result"
        }
      ],
      "source": [
        "# создать range\n",
        "np.arange(10, 1, -1)"
      ]
    },
    {
      "cell_type": "code",
      "execution_count": null,
      "metadata": {
        "colab": {
          "base_uri": "https://localhost:8080/"
        },
        "id": "ocyQ9m0E-yEG",
        "outputId": "5b98d17f-a2aa-4bf7-a109-10cc7540feb7"
      },
      "outputs": [
        {
          "data": {
            "text/plain": [
              "array([[0., 0., 0.],\n",
              "       [0., 0., 0.]])"
            ]
          },
          "execution_count": 21,
          "metadata": {},
          "output_type": "execute_result"
        }
      ],
      "source": [
        "# можно явно указать тип при создании массива вторым аргументов\n",
        "np.zeros((2, 3), dtype=np.double)"
      ]
    },
    {
      "cell_type": "code",
      "execution_count": null,
      "metadata": {
        "colab": {
          "base_uri": "https://localhost:8080/"
        },
        "id": "AaUs9QD0yKN-",
        "outputId": "304d27ae-e6d0-437b-9d47-718611318a71"
      },
      "outputs": [
        {
          "data": {
            "text/plain": [
              "array([[0., 0., 0.],\n",
              "       [0., 1., 2.],\n",
              "       [0., 2., 4.]])"
            ]
          },
          "execution_count": 22,
          "metadata": {},
          "output_type": "execute_result"
        }
      ],
      "source": [
        "# заполнить из функции\n",
        "np.fromfunction(lambda i, j: i * j, (3, 3))"
      ]
    },
    {
      "cell_type": "code",
      "execution_count": null,
      "metadata": {
        "colab": {
          "base_uri": "https://localhost:8080/"
        },
        "id": "SysNtRnx-yEH",
        "outputId": "2efae2ec-7ba7-437a-8dc3-4db04983f8e4"
      },
      "outputs": [
        {
          "data": {
            "text/plain": [
              "array(['1', '2', '5'], dtype='<U21')"
            ]
          },
          "execution_count": 23,
          "metadata": {},
          "output_type": "execute_result"
        }
      ],
      "source": [
        "# можно заменить тип\n",
        "a = np.array([1, 2, 5])\n",
        "a.astype('str')"
      ]
    },
    {
      "cell_type": "code",
      "execution_count": null,
      "metadata": {
        "colab": {
          "base_uri": "https://localhost:8080/"
        },
        "id": "8qYDVsQE-yEH",
        "outputId": "c31e0433-f371-47df-e5f5-af848eea6064"
      },
      "outputs": [
        {
          "data": {
            "text/plain": [
              "{'int': [numpy.int8, numpy.int16, numpy.int32, numpy.int64],\n",
              " 'uint': [numpy.uint8, numpy.uint16, numpy.uint32, numpy.uint64],\n",
              " 'float': [numpy.float16, numpy.float32, numpy.float64, numpy.longdouble],\n",
              " 'complex': [numpy.complex64, numpy.complex128, numpy.clongdouble],\n",
              " 'others': [bool, object, bytes, str, numpy.void]}"
            ]
          },
          "execution_count": 24,
          "metadata": {},
          "output_type": "execute_result"
        }
      ],
      "source": [
        "# посмотреть все возможные типы\n",
        "np.sctypes"
      ]
    },
    {
      "cell_type": "markdown",
      "metadata": {
        "id": "xvg4uX9J-yEH"
      },
      "source": [
        "#### Доступ к элементам массива, срезы\n",
        "https://numpy.org/doc/stable/user/basics.indexing.html\n",
        "\n"
      ]
    },
    {
      "cell_type": "markdown",
      "metadata": {
        "id": "Xu-EoG1f7XFC"
      },
      "source": [
        "##### Доступ к элементам"
      ]
    },
    {
      "cell_type": "code",
      "execution_count": null,
      "metadata": {
        "colab": {
          "base_uri": "https://localhost:8080/"
        },
        "id": "us6dHvlDXks_",
        "outputId": "e50524b8-8b74-4b9a-9836-e572febc58b5"
      },
      "outputs": [
        {
          "data": {
            "text/plain": [
              "8"
            ]
          },
          "execution_count": 25,
          "metadata": {},
          "output_type": "execute_result"
        }
      ],
      "source": [
        "# доступ по индексу, включая негативные индексы\n",
        "a = np.arange(10)\n",
        "a[-2]"
      ]
    },
    {
      "cell_type": "code",
      "execution_count": null,
      "metadata": {
        "colab": {
          "base_uri": "https://localhost:8080/"
        },
        "id": "B9U7WuShXqi4",
        "outputId": "f971f967-7d9f-4c07-b752-315a9f085797"
      },
      "outputs": [
        {
          "data": {
            "text/plain": [
              "9"
            ]
          },
          "execution_count": 26,
          "metadata": {},
          "output_type": "execute_result"
        }
      ],
      "source": [
        "# доступ по набору индексов, включая негативные\n",
        "a = np.array([[0, 1, 2, 3, 4], [5, 6, 7, 8, 9]])\n",
        "a[1,4]"
      ]
    },
    {
      "cell_type": "code",
      "execution_count": null,
      "metadata": {
        "colab": {
          "base_uri": "https://localhost:8080/"
        },
        "id": "1B011zwO6a-6",
        "outputId": "1580f99d-05fa-4837-fa1c-a0e70391eb09"
      },
      "outputs": [
        {
          "data": {
            "text/plain": [
              "8"
            ]
          },
          "execution_count": 27,
          "metadata": {},
          "output_type": "execute_result"
        }
      ],
      "source": [
        "# можно выделять индекс по каждому срезу отдельными скобками - но это менее эффективно\n",
        "a[1][3] # same as a[1,3]"
      ]
    },
    {
      "cell_type": "code",
      "execution_count": null,
      "metadata": {
        "id": "aTPVUCy17iKK"
      },
      "outputs": [],
      "source": [
        "# можно изменять значение по индексу\n",
        "a = np.arange(5)\n",
        "a[0] = 5\n",
        "a"
      ]
    },
    {
      "cell_type": "markdown",
      "metadata": {
        "id": "MdyPrFv67cNs"
      },
      "source": [
        "##### Срезы, слайсы"
      ]
    },
    {
      "cell_type": "code",
      "execution_count": 6,
      "metadata": {
        "id": "hEiDcyymKbw1"
      },
      "outputs": [
        {
          "data": {
            "text/plain": [
              "[8, 6, 4, 2]"
            ]
          },
          "execution_count": 6,
          "metadata": {},
          "output_type": "execute_result"
        }
      ],
      "source": [
        "a = list(range(10))\n",
        "a[8:1:-2]"
      ]
    },
    {
      "cell_type": "code",
      "execution_count": 5,
      "metadata": {
        "id": "bE4RqanRYgMP"
      },
      "outputs": [
        {
          "data": {
            "text/plain": [
              "array([8, 6, 4, 2])"
            ]
          },
          "execution_count": 5,
          "metadata": {},
          "output_type": "execute_result"
        }
      ],
      "source": [
        "# работает привычный питонячий слайсинг\n",
        "a = np.arange(10)\n",
        "a[8:1:-2]"
      ]
    },
    {
      "cell_type": "code",
      "execution_count": 3,
      "metadata": {
        "id": "ls8gAvOg-yEI"
      },
      "outputs": [
        {
          "data": {
            "text/plain": [
              "array([[[ 0,  1,  2],\n",
              "        [ 3,  4,  5]],\n",
              "\n",
              "       [[ 6,  7,  8],\n",
              "        [ 9, 10, 11]]])"
            ]
          },
          "execution_count": 3,
          "metadata": {},
          "output_type": "execute_result"
        }
      ],
      "source": [
        "# срез по первой оси\n",
        "a = np.array([[[0, 1, 2],[3, 4, 5]],[[6, 7, 8],[9, 10, 11]]])\n",
        "a"
      ]
    },
    {
      "cell_type": "code",
      "execution_count": 4,
      "metadata": {
        "id": "IkPnV4H8H1sV"
      },
      "outputs": [
        {
          "data": {
            "text/plain": [
              "(2, 2, 3)"
            ]
          },
          "execution_count": 4,
          "metadata": {},
          "output_type": "execute_result"
        }
      ],
      "source": [
        "a.shape"
      ]
    },
    {
      "cell_type": "code",
      "execution_count": 5,
      "metadata": {
        "id": "FIZnGNWXH5x0"
      },
      "outputs": [
        {
          "data": {
            "text/plain": [
              "array([[0, 1, 2],\n",
              "       [3, 4, 5]])"
            ]
          },
          "execution_count": 5,
          "metadata": {},
          "output_type": "execute_result"
        }
      ],
      "source": [
        "a[0] # same as a[0,:,:]"
      ]
    },
    {
      "cell_type": "code",
      "execution_count": 6,
      "metadata": {
        "id": "CqNEWE83Ywus"
      },
      "outputs": [
        {
          "data": {
            "text/plain": [
              "array([[0, 3],\n",
              "       [6, 9]])"
            ]
          },
          "execution_count": 6,
          "metadata": {},
          "output_type": "execute_result"
        }
      ],
      "source": [
        "# срез по произвольной оси\n",
        "a = np.array([[[0, 1, 2],[3, 4, 5]],[[6, 7, 8],[9, 10, 11]]])\n",
        "a[:,:,0] # same as a[:,0,:]"
      ]
    },
    {
      "cell_type": "code",
      "execution_count": 7,
      "metadata": {
        "id": "LlgE1di9-yEI"
      },
      "outputs": [
        {
          "data": {
            "text/plain": [
              "array([3, 1])"
            ]
          },
          "execution_count": 7,
          "metadata": {},
          "output_type": "execute_result"
        }
      ],
      "source": [
        "# срез + слайс\n",
        "a = np.array([[0, 1, 2, 3],[4, 5, 6, 7]])\n",
        "a[0,-1:0:-2]"
      ]
    },
    {
      "cell_type": "code",
      "execution_count": 8,
      "metadata": {
        "id": "Kgc903mGLVjF"
      },
      "outputs": [
        {
          "data": {
            "text/plain": [
              "array([[0, 1, 2, 3],\n",
              "       [4, 5, 6, 7]])"
            ]
          },
          "execution_count": 8,
          "metadata": {},
          "output_type": "execute_result"
        }
      ],
      "source": [
        "a.copy()"
      ]
    },
    {
      "cell_type": "code",
      "execution_count": 11,
      "metadata": {
        "id": "1QIlQT7HKQcP"
      },
      "outputs": [
        {
          "data": {
            "text/plain": [
              "array([[ 3,  1],\n",
              "       [11,  9]])"
            ]
          },
          "execution_count": 11,
          "metadata": {},
          "output_type": "execute_result"
        }
      ],
      "source": [
        "# можно задавать срезы/слайсы программно\n",
        "a = np.array([[0, 1, 2, 3],[4, 5, 6, 7],[8, 9, 10, 11]])\n",
        "\n",
        "i = np.array([0, 2])\n",
        "s = slice(-1, 0, -2)\n",
        "\n",
        "a[i,s]"
      ]
    },
    {
      "cell_type": "code",
      "execution_count": null,
      "metadata": {
        "id": "0R7DqFpWJBom"
      },
      "outputs": [],
      "source": [
        "a[np.array([0, 2]),-1:0:-2]"
      ]
    },
    {
      "cell_type": "code",
      "execution_count": null,
      "metadata": {
        "id": "nnhR3uCSbQWF"
      },
      "outputs": [],
      "source": [
        "# !!! срезы/слайсы не копируют массивы, а возвращают \"представление\"\n",
        "a = np.array([[0, 1, 2, 3],[4, 5, 6, 7],[8, 9, 10, 11]])\n",
        "\n",
        "b = a[0]\n",
        "b[2] = 100\n",
        "\n",
        "a"
      ]
    },
    {
      "cell_type": "markdown",
      "metadata": {
        "id": "xmY_LPtp9T00"
      },
      "source": [
        "Задача. Создать матрицу с единицами на побочной диагонали и нулями вне ее."
      ]
    },
    {
      "cell_type": "code",
      "execution_count": 19,
      "metadata": {
        "id": "NeBOqJae-yEJ"
      },
      "outputs": [
        {
          "data": {
            "text/plain": [
              "array([[0., 0., 0., 0., 1.],\n",
              "       [0., 0., 0., 1., 0.],\n",
              "       [0., 0., 1., 0., 0.],\n",
              "       [0., 1., 0., 0., 0.],\n",
              "       [1., 0., 0., 0., 0.]])"
            ]
          },
          "execution_count": 19,
          "metadata": {},
          "output_type": "execute_result"
        }
      ],
      "source": [
        "matrix = np.eye(5)[:,::-1]\n",
        "matrix"
      ]
    },
    {
      "cell_type": "markdown",
      "metadata": {
        "id": "O3tdw0wg-yEJ"
      },
      "source": [
        "##### Форма массива и ее изменение"
      ]
    },
    {
      "cell_type": "code",
      "execution_count": 20,
      "metadata": {
        "id": "-0YA3SDzbzL3"
      },
      "outputs": [
        {
          "data": {
            "text/plain": [
              "(12,)"
            ]
          },
          "execution_count": 20,
          "metadata": {},
          "output_type": "execute_result"
        }
      ],
      "source": [
        "a = np.arange(12)\n",
        "a.shape"
      ]
    },
    {
      "cell_type": "code",
      "execution_count": 25,
      "metadata": {
        "id": "gz8VAZdB-yEJ"
      },
      "outputs": [
        {
          "data": {
            "text/plain": [
              "array([[ 0,  1,  2,  3,  4,  5],\n",
              "       [ 6,  7,  8,  9, 10, 11]])"
            ]
          },
          "execution_count": 25,
          "metadata": {},
          "output_type": "execute_result"
        }
      ],
      "source": [
        "b = a.reshape(2, 6)\n",
        "b.shape\n",
        "b"
      ]
    },
    {
      "cell_type": "code",
      "execution_count": 23,
      "metadata": {
        "id": "xnR85ePe-yEJ"
      },
      "outputs": [],
      "source": [
        "# важно сохранять размеры при изменении формы\n",
        "c = a.reshape(2, 6)"
      ]
    },
    {
      "cell_type": "code",
      "execution_count": 30,
      "metadata": {
        "id": "5kBZqeJ_-yEJ"
      },
      "outputs": [
        {
          "data": {
            "text/plain": [
              "(5, 2)"
            ]
          },
          "execution_count": 30,
          "metadata": {},
          "output_type": "execute_result"
        }
      ],
      "source": [
        "# можно использовать -1, тогда размер вдоль этой оси будет автоматически вычисляться\n",
        "c = a.reshape(5, -1)\n",
        "c.shape"
      ]
    },
    {
      "cell_type": "code",
      "execution_count": 26,
      "metadata": {
        "id": "GtyYQsUN-yEK"
      },
      "outputs": [
        {
          "data": {
            "text/plain": [
              "(12,)"
            ]
          },
          "execution_count": 26,
          "metadata": {},
          "output_type": "execute_result"
        }
      ],
      "source": [
        "# развернуть массив в одномерный\n",
        "d = c.ravel()\n",
        "d.shape"
      ]
    },
    {
      "cell_type": "code",
      "execution_count": 27,
      "metadata": {
        "id": "I6ogkX8lNY6Z"
      },
      "outputs": [
        {
          "data": {
            "text/plain": [
              "array([  0,   1,   2, 100,   4,   5,   6,   7,   8,   9])"
            ]
          },
          "execution_count": 27,
          "metadata": {},
          "output_type": "execute_result"
        }
      ],
      "source": [
        "# !!! изменение формы тоже возвращает \"представление\"\n",
        "a = np.arange(10)\n",
        "\n",
        "b = a.reshape(2, 5)\n",
        "b[0][3] = 100\n",
        "\n",
        "a"
      ]
    },
    {
      "cell_type": "markdown",
      "metadata": {
        "id": "0DdINg78N9mB"
      },
      "source": [
        "#### Операции с массивами"
      ]
    },
    {
      "cell_type": "markdown",
      "metadata": {
        "id": "rnlvrcLM-yEK"
      },
      "source": [
        "##### Арифметические операции"
      ]
    },
    {
      "cell_type": "markdown",
      "metadata": {
        "id": "-Hn3vP9iP63v"
      },
      "source": [
        "Операции с числами выполняются **поэлементно**\n",
        "\n"
      ]
    },
    {
      "cell_type": "code",
      "execution_count": 31,
      "metadata": {
        "id": "YkpnJuGx-yEL"
      },
      "outputs": [
        {
          "data": {
            "text/plain": [
              "array([[1, 2],\n",
              "       [3, 4]])"
            ]
          },
          "execution_count": 31,
          "metadata": {},
          "output_type": "execute_result"
        }
      ],
      "source": [
        "a = np.array([[1, 2],[3, 4]])\n",
        "a"
      ]
    },
    {
      "cell_type": "code",
      "execution_count": 32,
      "metadata": {
        "id": "eoVZMFTNQCDn"
      },
      "outputs": [
        {
          "data": {
            "text/plain": [
              "array([[2, 3],\n",
              "       [4, 5]])"
            ]
          },
          "execution_count": 32,
          "metadata": {},
          "output_type": "execute_result"
        }
      ],
      "source": [
        "a + 1"
      ]
    },
    {
      "cell_type": "code",
      "execution_count": 33,
      "metadata": {
        "id": "UG34YvGEQDll"
      },
      "outputs": [
        {
          "data": {
            "text/plain": [
              "array([[0, 1],\n",
              "       [2, 3]])"
            ]
          },
          "execution_count": 33,
          "metadata": {},
          "output_type": "execute_result"
        }
      ],
      "source": [
        "a - 1"
      ]
    },
    {
      "cell_type": "code",
      "execution_count": 34,
      "metadata": {
        "id": "RZ7khJPuQFCy"
      },
      "outputs": [
        {
          "data": {
            "text/plain": [
              "array([[2, 4],\n",
              "       [6, 8]])"
            ]
          },
          "execution_count": 34,
          "metadata": {},
          "output_type": "execute_result"
        }
      ],
      "source": [
        "a * 2"
      ]
    },
    {
      "cell_type": "code",
      "execution_count": 35,
      "metadata": {
        "id": "bzeVdOlxQGiD"
      },
      "outputs": [
        {
          "data": {
            "text/plain": [
              "array([[0.5, 1. ],\n",
              "       [1.5, 2. ]])"
            ]
          },
          "execution_count": 35,
          "metadata": {},
          "output_type": "execute_result"
        }
      ],
      "source": [
        "a / 2"
      ]
    },
    {
      "cell_type": "code",
      "execution_count": 36,
      "metadata": {
        "id": "jmbxNvOpQHxn"
      },
      "outputs": [
        {
          "data": {
            "text/plain": [
              "array([[ 1,  4],\n",
              "       [ 9, 16]])"
            ]
          },
          "execution_count": 36,
          "metadata": {},
          "output_type": "execute_result"
        }
      ],
      "source": [
        "a ** 2"
      ]
    },
    {
      "cell_type": "markdown",
      "metadata": {
        "id": "Nw4MelyuQXpQ"
      },
      "source": [
        "Математические операции между матрицами тоже выполняются **поэлементно**"
      ]
    },
    {
      "cell_type": "code",
      "execution_count": null,
      "metadata": {
        "id": "K3mpNSZEQjiT"
      },
      "outputs": [],
      "source": [
        "a = np.array([[1, 2], [3, 4]])\n",
        "b = np.array([[3, 4], [1, 2]])"
      ]
    },
    {
      "cell_type": "code",
      "execution_count": null,
      "metadata": {
        "id": "rMvbv58NQr3v"
      },
      "outputs": [],
      "source": [
        "a + b"
      ]
    },
    {
      "cell_type": "code",
      "execution_count": null,
      "metadata": {
        "id": "9QfvtwELQwvX"
      },
      "outputs": [],
      "source": [
        "a - b"
      ]
    },
    {
      "cell_type": "code",
      "execution_count": null,
      "metadata": {
        "id": "LPjd77SRQtnZ"
      },
      "outputs": [],
      "source": [
        "a * b"
      ]
    },
    {
      "cell_type": "code",
      "execution_count": null,
      "metadata": {
        "id": "PlT4LWfOQvJo"
      },
      "outputs": [],
      "source": [
        "a / b"
      ]
    },
    {
      "cell_type": "markdown",
      "metadata": {
        "id": "RrA6BbhGSei1"
      },
      "source": [
        "Формы массивов могут не совпадать, главное - чтобы они были **broadcastable**\n",
        "\n",
        "https://numpy.org/doc/stable/user/basics.broadcasting.html"
      ]
    },
    {
      "cell_type": "code",
      "execution_count": 37,
      "metadata": {
        "id": "7E0BDcxySAPa"
      },
      "outputs": [
        {
          "name": "stdout",
          "output_type": "stream",
          "text": [
            "(2, 3) (3,) (2, 3)\n"
          ]
        }
      ],
      "source": [
        "a = np.array([[1, 2, 3], [4, 5, 6]])\n",
        "b = np.array([0, 1, 2])\n",
        "c = np.array([[0, 1, 2], [0, 1, 2]])\n",
        "\n",
        "print(a.shape, b.shape, c.shape)"
      ]
    },
    {
      "cell_type": "code",
      "execution_count": 38,
      "metadata": {
        "id": "Dy_9dnovTjqk"
      },
      "outputs": [
        {
          "data": {
            "text/plain": [
              "array([[1, 3, 5],\n",
              "       [4, 6, 8]])"
            ]
          },
          "execution_count": 38,
          "metadata": {},
          "output_type": "execute_result"
        }
      ],
      "source": [
        "a + b"
      ]
    },
    {
      "cell_type": "code",
      "execution_count": 39,
      "metadata": {
        "id": "3Kgzsh53TyR-"
      },
      "outputs": [
        {
          "data": {
            "text/plain": [
              "array([[1, 3, 5],\n",
              "       [4, 6, 8]])"
            ]
          },
          "execution_count": 39,
          "metadata": {},
          "output_type": "execute_result"
        }
      ],
      "source": [
        "a + c"
      ]
    },
    {
      "cell_type": "markdown",
      "metadata": {
        "id": "bd7fNjnIUPUs"
      },
      "source": [
        "Задача. Создать квадратную матрицу размера N с квадратами чисел от N до 1 на главной диагонали"
      ]
    },
    {
      "cell_type": "code",
      "execution_count": 40,
      "metadata": {
        "id": "6qtKBzB7UM3t"
      },
      "outputs": [
        {
          "data": {
            "text/plain": [
              "array([[100.,   0.,   0.,   0.,   0.,   0.,   0.,   0.,   0.,   0.],\n",
              "       [  0.,  81.,   0.,   0.,   0.,   0.,   0.,   0.,   0.,   0.],\n",
              "       [  0.,   0.,  64.,   0.,   0.,   0.,   0.,   0.,   0.,   0.],\n",
              "       [  0.,   0.,   0.,  49.,   0.,   0.,   0.,   0.,   0.,   0.],\n",
              "       [  0.,   0.,   0.,   0.,  36.,   0.,   0.,   0.,   0.,   0.],\n",
              "       [  0.,   0.,   0.,   0.,   0.,  25.,   0.,   0.,   0.,   0.],\n",
              "       [  0.,   0.,   0.,   0.,   0.,   0.,  16.,   0.,   0.,   0.],\n",
              "       [  0.,   0.,   0.,   0.,   0.,   0.,   0.,   9.,   0.,   0.],\n",
              "       [  0.,   0.,   0.,   0.,   0.,   0.,   0.,   0.,   4.,   0.],\n",
              "       [  0.,   0.,   0.,   0.,   0.,   0.,   0.,   0.,   0.,   1.]])"
            ]
          },
          "execution_count": 40,
          "metadata": {},
          "output_type": "execute_result"
        }
      ],
      "source": [
        "# your code here\n",
        "a = np.eye(10)\n",
        "b = np.arange(10, 0, -1)\n",
        "c = (a * b) ** 2\n",
        "\n",
        "c"
      ]
    },
    {
      "cell_type": "markdown",
      "metadata": {
        "id": "XhkUPFF63NkO"
      },
      "source": [
        "##### Математические функции\n",
        "\n",
        "https://numpy.org/doc/stable/reference/routines.math.html"
      ]
    },
    {
      "cell_type": "code",
      "execution_count": 41,
      "metadata": {
        "id": "Bx3ucvcS3TQ0"
      },
      "outputs": [
        {
          "data": {
            "text/plain": [
              "array([ 0.        ,  0.84147098,  0.90929743,  0.14112001, -0.7568025 ,\n",
              "       -0.95892427, -0.2794155 ,  0.6569866 ,  0.98935825,  0.41211849])"
            ]
          },
          "execution_count": 41,
          "metadata": {},
          "output_type": "execute_result"
        }
      ],
      "source": [
        "# поэлементные функции\n",
        "a = np.arange(10)\n",
        "np.sin(a)"
      ]
    },
    {
      "cell_type": "code",
      "execution_count": 3,
      "metadata": {
        "id": "8QtSBcRS3pc1"
      },
      "outputs": [
        {
          "data": {
            "text/plain": [
              "10"
            ]
          },
          "execution_count": 3,
          "metadata": {},
          "output_type": "execute_result"
        }
      ],
      "source": [
        "# агрегатные функции\n",
        "a = np.array([[1, 2], [3, 4]])\n",
        "np.sum(a)"
      ]
    },
    {
      "cell_type": "code",
      "execution_count": 4,
      "metadata": {
        "id": "ygUrcw-u3xJl"
      },
      "outputs": [
        {
          "data": {
            "text/plain": [
              "array([[1, 2],\n",
              "       [3, 4]])"
            ]
          },
          "execution_count": 4,
          "metadata": {},
          "output_type": "execute_result"
        }
      ],
      "source": [
        "# можно задавать ось\n",
        "a = np.array([[1, 2], [3, 4]])\n",
        "np.sum(a, 0)\n",
        "a"
      ]
    },
    {
      "cell_type": "markdown",
      "metadata": {
        "id": "JNxPRUgYVZMI"
      },
      "source": [
        "##### Матричные операции"
      ]
    },
    {
      "cell_type": "markdown",
      "metadata": {
        "id": "nnH8GfkHgwES"
      },
      "source": [
        "Транспонирование матрицы"
      ]
    },
    {
      "cell_type": "code",
      "execution_count": 45,
      "metadata": {
        "id": "NCR_XQwUg0Ei"
      },
      "outputs": [
        {
          "data": {
            "text/plain": [
              "array([[1, 2],\n",
              "       [3, 4]])"
            ]
          },
          "execution_count": 45,
          "metadata": {},
          "output_type": "execute_result"
        }
      ],
      "source": [
        "a = np.array([[1, 2], [3, 4]])\n",
        "a"
      ]
    },
    {
      "cell_type": "code",
      "execution_count": 46,
      "metadata": {
        "id": "xza9PQK1g6DY"
      },
      "outputs": [
        {
          "data": {
            "text/plain": [
              "array([[1, 3],\n",
              "       [2, 4]])"
            ]
          },
          "execution_count": 46,
          "metadata": {},
          "output_type": "execute_result"
        }
      ],
      "source": [
        "a.T"
      ]
    },
    {
      "cell_type": "code",
      "execution_count": 47,
      "metadata": {
        "id": "Xq6Wo5_Vg7Kz"
      },
      "outputs": [
        {
          "data": {
            "text/plain": [
              "array([[1, 3],\n",
              "       [2, 4]])"
            ]
          },
          "execution_count": 47,
          "metadata": {},
          "output_type": "execute_result"
        }
      ],
      "source": [
        "a.transpose()"
      ]
    },
    {
      "cell_type": "code",
      "execution_count": 48,
      "metadata": {
        "id": "pNq_ALqJg9Pu"
      },
      "outputs": [
        {
          "data": {
            "text/plain": [
              "array([[1, 3],\n",
              "       [2, 4]])"
            ]
          },
          "execution_count": 48,
          "metadata": {},
          "output_type": "execute_result"
        }
      ],
      "source": [
        "np.transpose(a)"
      ]
    },
    {
      "cell_type": "markdown",
      "metadata": {
        "id": "iDd62QB0-yEX"
      },
      "source": [
        "Операция matmul - умножение матрицы на вектор, и матрицы на матрицу\n",
        "\n",
        "https://numpy.org/doc/stable/reference/generated/numpy.matmul.html"
      ]
    },
    {
      "cell_type": "code",
      "execution_count": 50,
      "metadata": {
        "id": "n2aSCVyV-yEX"
      },
      "outputs": [
        {
          "data": {
            "text/plain": [
              "-5.0"
            ]
          },
          "execution_count": 50,
          "metadata": {},
          "output_type": "execute_result"
        }
      ],
      "source": [
        "# два вектора - скалярное произведение\n",
        "a = np.array([2., 3., 4.])\n",
        "b = np.array([-2., 1., -1.])\n",
        "\n",
        "np.matmul(a, b)"
      ]
    },
    {
      "cell_type": "code",
      "execution_count": null,
      "metadata": {
        "id": "wpiwxYoy-yEY"
      },
      "outputs": [],
      "source": [
        "# матрица и вектор - умножение матрицы на вектор\n",
        "a = np.array([[1, 2, 3], [4, 5, 6], [7, 8, 9]])\n",
        "b = np.array([-1, 3, 2])\n",
        "\n",
        "a @ b"
      ]
    },
    {
      "cell_type": "code",
      "execution_count": 52,
      "metadata": {
        "id": "C4U87G0O-yEY"
      },
      "outputs": [
        {
          "data": {
            "text/plain": [
              "array([[22, 28],\n",
              "       [40, 52],\n",
              "       [58, 76]])"
            ]
          },
          "execution_count": 52,
          "metadata": {},
          "output_type": "execute_result"
        }
      ],
      "source": [
        "# две матрицы\n",
        "a = np.array([[1, 2, 3], [3, 4, 5], [5, 6, 7]])\n",
        "b = np.array([[1, 2], [3, 4], [5, 6]])\n",
        "\n",
        "a @ b"
      ]
    },
    {
      "cell_type": "code",
      "execution_count": 53,
      "metadata": {
        "id": "R1t6Vasm-yEY"
      },
      "outputs": [
        {
          "ename": "ValueError",
          "evalue": "matmul: Input operand 1 has a mismatch in its core dimension 0, with gufunc signature (n?,k),(k,m?)->(n?,m?) (size 3 is different from 2)",
          "output_type": "error",
          "traceback": [
            "\u001b[1;31m---------------------------------------------------------------------------\u001b[0m",
            "\u001b[1;31mValueError\u001b[0m                                Traceback (most recent call last)",
            "Cell \u001b[1;32mIn[53], line 2\u001b[0m\n\u001b[0;32m      1\u001b[0m \u001b[38;5;66;03m# важно, чтобы матрицы соответствовали по размеру (число столбцов первой матрицы равнялось число строк второй)\u001b[39;00m\n\u001b[1;32m----> 2\u001b[0m \u001b[43mb\u001b[49m\u001b[43m \u001b[49m\u001b[38;5;241;43m@\u001b[39;49m\u001b[43m \u001b[49m\u001b[43ma\u001b[49m\n",
            "\u001b[1;31mValueError\u001b[0m: matmul: Input operand 1 has a mismatch in its core dimension 0, with gufunc signature (n?,k),(k,m?)->(n?,m?) (size 3 is different from 2)"
          ]
        }
      ],
      "source": [
        "# важно, чтобы матрицы соответствовали по размеру (число столбцов первой матрицы равнялось число строк второй)\n",
        "b @ a"
      ]
    },
    {
      "cell_type": "code",
      "execution_count": 55,
      "metadata": {
        "id": "A1C9xgXNxozD"
      },
      "outputs": [
        {
          "data": {
            "text/plain": [
              "array([[[[4., 4., 4., 4., 4.],\n",
              "         [4., 4., 4., 4., 4.],\n",
              "         [4., 4., 4., 4., 4.]],\n",
              "\n",
              "        [[4., 4., 4., 4., 4.],\n",
              "         [4., 4., 4., 4., 4.],\n",
              "         [4., 4., 4., 4., 4.]],\n",
              "\n",
              "        [[4., 4., 4., 4., 4.],\n",
              "         [4., 4., 4., 4., 4.],\n",
              "         [4., 4., 4., 4., 4.]],\n",
              "\n",
              "        [[4., 4., 4., 4., 4.],\n",
              "         [4., 4., 4., 4., 4.],\n",
              "         [4., 4., 4., 4., 4.]],\n",
              "\n",
              "        [[4., 4., 4., 4., 4.],\n",
              "         [4., 4., 4., 4., 4.],\n",
              "         [4., 4., 4., 4., 4.]]],\n",
              "\n",
              "\n",
              "       [[[4., 4., 4., 4., 4.],\n",
              "         [4., 4., 4., 4., 4.],\n",
              "         [4., 4., 4., 4., 4.]],\n",
              "\n",
              "        [[4., 4., 4., 4., 4.],\n",
              "         [4., 4., 4., 4., 4.],\n",
              "         [4., 4., 4., 4., 4.]],\n",
              "\n",
              "        [[4., 4., 4., 4., 4.],\n",
              "         [4., 4., 4., 4., 4.],\n",
              "         [4., 4., 4., 4., 4.]],\n",
              "\n",
              "        [[4., 4., 4., 4., 4.],\n",
              "         [4., 4., 4., 4., 4.],\n",
              "         [4., 4., 4., 4., 4.]],\n",
              "\n",
              "        [[4., 4., 4., 4., 4.],\n",
              "         [4., 4., 4., 4., 4.],\n",
              "         [4., 4., 4., 4., 4.]]],\n",
              "\n",
              "\n",
              "       [[[4., 4., 4., 4., 4.],\n",
              "         [4., 4., 4., 4., 4.],\n",
              "         [4., 4., 4., 4., 4.]],\n",
              "\n",
              "        [[4., 4., 4., 4., 4.],\n",
              "         [4., 4., 4., 4., 4.],\n",
              "         [4., 4., 4., 4., 4.]],\n",
              "\n",
              "        [[4., 4., 4., 4., 4.],\n",
              "         [4., 4., 4., 4., 4.],\n",
              "         [4., 4., 4., 4., 4.]],\n",
              "\n",
              "        [[4., 4., 4., 4., 4.],\n",
              "         [4., 4., 4., 4., 4.],\n",
              "         [4., 4., 4., 4., 4.]],\n",
              "\n",
              "        [[4., 4., 4., 4., 4.],\n",
              "         [4., 4., 4., 4., 4.],\n",
              "         [4., 4., 4., 4., 4.]]],\n",
              "\n",
              "\n",
              "       [[[4., 4., 4., 4., 4.],\n",
              "         [4., 4., 4., 4., 4.],\n",
              "         [4., 4., 4., 4., 4.]],\n",
              "\n",
              "        [[4., 4., 4., 4., 4.],\n",
              "         [4., 4., 4., 4., 4.],\n",
              "         [4., 4., 4., 4., 4.]],\n",
              "\n",
              "        [[4., 4., 4., 4., 4.],\n",
              "         [4., 4., 4., 4., 4.],\n",
              "         [4., 4., 4., 4., 4.]],\n",
              "\n",
              "        [[4., 4., 4., 4., 4.],\n",
              "         [4., 4., 4., 4., 4.],\n",
              "         [4., 4., 4., 4., 4.]],\n",
              "\n",
              "        [[4., 4., 4., 4., 4.],\n",
              "         [4., 4., 4., 4., 4.],\n",
              "         [4., 4., 4., 4., 4.]]],\n",
              "\n",
              "\n",
              "       [[[4., 4., 4., 4., 4.],\n",
              "         [4., 4., 4., 4., 4.],\n",
              "         [4., 4., 4., 4., 4.]],\n",
              "\n",
              "        [[4., 4., 4., 4., 4.],\n",
              "         [4., 4., 4., 4., 4.],\n",
              "         [4., 4., 4., 4., 4.]],\n",
              "\n",
              "        [[4., 4., 4., 4., 4.],\n",
              "         [4., 4., 4., 4., 4.],\n",
              "         [4., 4., 4., 4., 4.]],\n",
              "\n",
              "        [[4., 4., 4., 4., 4.],\n",
              "         [4., 4., 4., 4., 4.],\n",
              "         [4., 4., 4., 4., 4.]],\n",
              "\n",
              "        [[4., 4., 4., 4., 4.],\n",
              "         [4., 4., 4., 4., 4.],\n",
              "         [4., 4., 4., 4., 4.]]],\n",
              "\n",
              "\n",
              "       [[[4., 4., 4., 4., 4.],\n",
              "         [4., 4., 4., 4., 4.],\n",
              "         [4., 4., 4., 4., 4.]],\n",
              "\n",
              "        [[4., 4., 4., 4., 4.],\n",
              "         [4., 4., 4., 4., 4.],\n",
              "         [4., 4., 4., 4., 4.]],\n",
              "\n",
              "        [[4., 4., 4., 4., 4.],\n",
              "         [4., 4., 4., 4., 4.],\n",
              "         [4., 4., 4., 4., 4.]],\n",
              "\n",
              "        [[4., 4., 4., 4., 4.],\n",
              "         [4., 4., 4., 4., 4.],\n",
              "         [4., 4., 4., 4., 4.]],\n",
              "\n",
              "        [[4., 4., 4., 4., 4.],\n",
              "         [4., 4., 4., 4., 4.],\n",
              "         [4., 4., 4., 4., 4.]]],\n",
              "\n",
              "\n",
              "       [[[4., 4., 4., 4., 4.],\n",
              "         [4., 4., 4., 4., 4.],\n",
              "         [4., 4., 4., 4., 4.]],\n",
              "\n",
              "        [[4., 4., 4., 4., 4.],\n",
              "         [4., 4., 4., 4., 4.],\n",
              "         [4., 4., 4., 4., 4.]],\n",
              "\n",
              "        [[4., 4., 4., 4., 4.],\n",
              "         [4., 4., 4., 4., 4.],\n",
              "         [4., 4., 4., 4., 4.]],\n",
              "\n",
              "        [[4., 4., 4., 4., 4.],\n",
              "         [4., 4., 4., 4., 4.],\n",
              "         [4., 4., 4., 4., 4.]],\n",
              "\n",
              "        [[4., 4., 4., 4., 4.],\n",
              "         [4., 4., 4., 4., 4.],\n",
              "         [4., 4., 4., 4., 4.]]],\n",
              "\n",
              "\n",
              "       [[[4., 4., 4., 4., 4.],\n",
              "         [4., 4., 4., 4., 4.],\n",
              "         [4., 4., 4., 4., 4.]],\n",
              "\n",
              "        [[4., 4., 4., 4., 4.],\n",
              "         [4., 4., 4., 4., 4.],\n",
              "         [4., 4., 4., 4., 4.]],\n",
              "\n",
              "        [[4., 4., 4., 4., 4.],\n",
              "         [4., 4., 4., 4., 4.],\n",
              "         [4., 4., 4., 4., 4.]],\n",
              "\n",
              "        [[4., 4., 4., 4., 4.],\n",
              "         [4., 4., 4., 4., 4.],\n",
              "         [4., 4., 4., 4., 4.]],\n",
              "\n",
              "        [[4., 4., 4., 4., 4.],\n",
              "         [4., 4., 4., 4., 4.],\n",
              "         [4., 4., 4., 4., 4.]]],\n",
              "\n",
              "\n",
              "       [[[4., 4., 4., 4., 4.],\n",
              "         [4., 4., 4., 4., 4.],\n",
              "         [4., 4., 4., 4., 4.]],\n",
              "\n",
              "        [[4., 4., 4., 4., 4.],\n",
              "         [4., 4., 4., 4., 4.],\n",
              "         [4., 4., 4., 4., 4.]],\n",
              "\n",
              "        [[4., 4., 4., 4., 4.],\n",
              "         [4., 4., 4., 4., 4.],\n",
              "         [4., 4., 4., 4., 4.]],\n",
              "\n",
              "        [[4., 4., 4., 4., 4.],\n",
              "         [4., 4., 4., 4., 4.],\n",
              "         [4., 4., 4., 4., 4.]],\n",
              "\n",
              "        [[4., 4., 4., 4., 4.],\n",
              "         [4., 4., 4., 4., 4.],\n",
              "         [4., 4., 4., 4., 4.]]],\n",
              "\n",
              "\n",
              "       [[[4., 4., 4., 4., 4.],\n",
              "         [4., 4., 4., 4., 4.],\n",
              "         [4., 4., 4., 4., 4.]],\n",
              "\n",
              "        [[4., 4., 4., 4., 4.],\n",
              "         [4., 4., 4., 4., 4.],\n",
              "         [4., 4., 4., 4., 4.]],\n",
              "\n",
              "        [[4., 4., 4., 4., 4.],\n",
              "         [4., 4., 4., 4., 4.],\n",
              "         [4., 4., 4., 4., 4.]],\n",
              "\n",
              "        [[4., 4., 4., 4., 4.],\n",
              "         [4., 4., 4., 4., 4.],\n",
              "         [4., 4., 4., 4., 4.]],\n",
              "\n",
              "        [[4., 4., 4., 4., 4.],\n",
              "         [4., 4., 4., 4., 4.],\n",
              "         [4., 4., 4., 4., 4.]]],\n",
              "\n",
              "\n",
              "       [[[4., 4., 4., 4., 4.],\n",
              "         [4., 4., 4., 4., 4.],\n",
              "         [4., 4., 4., 4., 4.]],\n",
              "\n",
              "        [[4., 4., 4., 4., 4.],\n",
              "         [4., 4., 4., 4., 4.],\n",
              "         [4., 4., 4., 4., 4.]],\n",
              "\n",
              "        [[4., 4., 4., 4., 4.],\n",
              "         [4., 4., 4., 4., 4.],\n",
              "         [4., 4., 4., 4., 4.]],\n",
              "\n",
              "        [[4., 4., 4., 4., 4.],\n",
              "         [4., 4., 4., 4., 4.],\n",
              "         [4., 4., 4., 4., 4.]],\n",
              "\n",
              "        [[4., 4., 4., 4., 4.],\n",
              "         [4., 4., 4., 4., 4.],\n",
              "         [4., 4., 4., 4., 4.]]],\n",
              "\n",
              "\n",
              "       [[[4., 4., 4., 4., 4.],\n",
              "         [4., 4., 4., 4., 4.],\n",
              "         [4., 4., 4., 4., 4.]],\n",
              "\n",
              "        [[4., 4., 4., 4., 4.],\n",
              "         [4., 4., 4., 4., 4.],\n",
              "         [4., 4., 4., 4., 4.]],\n",
              "\n",
              "        [[4., 4., 4., 4., 4.],\n",
              "         [4., 4., 4., 4., 4.],\n",
              "         [4., 4., 4., 4., 4.]],\n",
              "\n",
              "        [[4., 4., 4., 4., 4.],\n",
              "         [4., 4., 4., 4., 4.],\n",
              "         [4., 4., 4., 4., 4.]],\n",
              "\n",
              "        [[4., 4., 4., 4., 4.],\n",
              "         [4., 4., 4., 4., 4.],\n",
              "         [4., 4., 4., 4., 4.]]]])"
            ]
          },
          "execution_count": 55,
          "metadata": {},
          "output_type": "execute_result"
        }
      ],
      "source": [
        "# если размерность одного массива больше 2?\n",
        "a = np.ones((12, 5, 3, 4))\n",
        "b = np.ones((4, 5))\n",
        "\n",
        "c = a @ b\n",
        "c.shape\n",
        "c"
      ]
    },
    {
      "cell_type": "code",
      "execution_count": 57,
      "metadata": {
        "id": "sMV4YAlDyFgg"
      },
      "outputs": [
        {
          "data": {
            "text/plain": [
              "array([[[4., 4., 4., 4., 4.],\n",
              "        [4., 4., 4., 4., 4.],\n",
              "        [4., 4., 4., 4., 4.]],\n",
              "\n",
              "       [[4., 4., 4., 4., 4.],\n",
              "        [4., 4., 4., 4., 4.],\n",
              "        [4., 4., 4., 4., 4.]]])"
            ]
          },
          "execution_count": 57,
          "metadata": {},
          "output_type": "execute_result"
        }
      ],
      "source": [
        "# а если обоих?\n",
        "a = np.ones((2, 3, 4))\n",
        "b = np.ones((2, 4, 5))\n",
        "\n",
        "c = a @ b\n",
        "c.shape\n",
        "c"
      ]
    },
    {
      "cell_type": "markdown",
      "metadata": {
        "id": "bU-eZCYuxb1z"
      },
      "source": [
        "Операция dot - тоже умножение, но есть нюанс\n",
        "\n",
        "https://numpy.org/doc/stable/reference/generated/numpy.dot.html"
      ]
    },
    {
      "cell_type": "code",
      "execution_count": 61,
      "metadata": {
        "id": "y73Rf3vMydmr"
      },
      "outputs": [
        {
          "data": {
            "text/plain": [
              "array([[1., 1., 1., 1., 1.],\n",
              "       [1., 1., 1., 1., 1.],\n",
              "       [1., 1., 1., 1., 1.],\n",
              "       [1., 1., 1., 1., 1.]])"
            ]
          },
          "execution_count": 61,
          "metadata": {},
          "output_type": "execute_result"
        }
      ],
      "source": [
        "# если размерность одного массива больше 2?\n",
        "a = np.ones((2, 3, 4))\n",
        "b = np.ones((4, 5))\n",
        "\n",
        "c = a.dot(b)\n",
        "c.shape\n",
        "b"
      ]
    },
    {
      "cell_type": "code",
      "execution_count": null,
      "metadata": {},
      "outputs": [],
      "source": []
    },
    {
      "cell_type": "code",
      "execution_count": null,
      "metadata": {
        "id": "P_GP-uSmyfgS"
      },
      "outputs": [],
      "source": [
        "# а если обоих?\n",
        "a = np.ones((2, 3, 4))\n",
        "b = np.ones((7, 4, 5))\n",
        "\n",
        "c = a.dot(b)\n",
        "c.shape"
      ]
    },
    {
      "cell_type": "markdown",
      "metadata": {
        "id": "-MVAgpZW-yEZ"
      },
      "source": [
        "Обратная матрица и определитель"
      ]
    },
    {
      "cell_type": "code",
      "execution_count": null,
      "metadata": {
        "id": "KkeVw41R-yEZ"
      },
      "outputs": [],
      "source": [
        "# определитель\n",
        "a = np.eye(10)\n",
        "\n",
        "print(a)\n",
        "print(np.linalg.det(a))"
      ]
    },
    {
      "cell_type": "code",
      "execution_count": 70,
      "metadata": {
        "id": "Df5pvq8a-yEa"
      },
      "outputs": [
        {
          "name": "stdout",
          "output_type": "stream",
          "text": [
            "[[6. 1. 1. 1. 1. 1.]\n",
            " [1. 6. 1. 1. 1. 1.]\n",
            " [1. 1. 6. 1. 1. 1.]\n",
            " [1. 1. 1. 6. 1. 1.]\n",
            " [1. 1. 1. 1. 6. 1.]\n",
            " [1. 1. 1. 1. 1. 6.]]\n",
            "34374.99999999999\n"
          ]
        }
      ],
      "source": [
        "b = 5 * np.eye(6) + np.ones(6)\n",
        "\n",
        "print(b)\n",
        "print(np.linalg.det(b))"
      ]
    },
    {
      "cell_type": "code",
      "execution_count": 69,
      "metadata": {
        "id": "rrcR9VUF-yEa"
      },
      "outputs": [
        {
          "data": {
            "text/plain": [
              "array([[-2. ,  1. ],\n",
              "       [ 1.5, -0.5]])"
            ]
          },
          "execution_count": 69,
          "metadata": {},
          "output_type": "execute_result"
        }
      ],
      "source": [
        "# обратная матрица\n",
        "a = np.array([[1, 2], [3, 4]])\n",
        "b = np.linalg.inv(a)\n",
        "\n",
        "b"
      ]
    },
    {
      "cell_type": "code",
      "execution_count": 64,
      "metadata": {
        "id": "XJXJieEJw-Xo"
      },
      "outputs": [
        {
          "data": {
            "text/plain": [
              "array([[1.0000000e+00, 0.0000000e+00],\n",
              "       [8.8817842e-16, 1.0000000e+00]])"
            ]
          },
          "execution_count": 64,
          "metadata": {},
          "output_type": "execute_result"
        }
      ],
      "source": [
        "a @ b"
      ]
    },
    {
      "cell_type": "code",
      "execution_count": 66,
      "metadata": {
        "id": "9p72eBL0xAGz"
      },
      "outputs": [
        {
          "data": {
            "text/plain": [
              "False"
            ]
          },
          "execution_count": 66,
          "metadata": {},
          "output_type": "execute_result"
        }
      ],
      "source": [
        "np.allclose(a @ b, np.eye(2))"
      ]
    },
    {
      "cell_type": "code",
      "execution_count": 65,
      "metadata": {
        "id": "RhdwueqaxFRQ"
      },
      "outputs": [
        {
          "data": {
            "text/plain": [
              "0.0"
            ]
          },
          "execution_count": 65,
          "metadata": {},
          "output_type": "execute_result"
        }
      ],
      "source": [
        "# обратная матрица не всегда существует\n",
        "a = np.array([[1, 0], [2, 0]])\n",
        "np.linalg.det(a)"
      ]
    },
    {
      "cell_type": "markdown",
      "metadata": {
        "id": "v4J_dR8EqDWb"
      },
      "source": [
        "Задача. Решить систему линейных уравнений\n",
        "$$\n",
        "a_{11} x_1 + ... + a_{1n} x_n = b_1\n",
        "$$\n",
        "$$\n",
        "...\n",
        "$$\n",
        "$$\n",
        "a_{n1} x_1 + ... + a_{nn} x_n = b_n\n",
        "$$\n",
        "\n",
        "В матричном виде $Ax = b$"
      ]
    },
    {
      "cell_type": "code",
      "execution_count": 67,
      "metadata": {
        "id": "fowDXMPDsLQy"
      },
      "outputs": [],
      "source": [
        "def solve_eq(A, b):\n",
        "    return np.linalg.inv(A) @ b"
      ]
    },
    {
      "cell_type": "code",
      "execution_count": 68,
      "metadata": {
        "id": "CW48k7ZArrV_"
      },
      "outputs": [],
      "source": [
        "A = np.random.random((5, 5))\n",
        "b = np.arange(5)\n",
        "\n",
        "x = solve_eq(A, b)\n",
        "\n",
        "assert np.allclose(A @ x, b)"
      ]
    }
  ],
  "metadata": {
    "colab": {
      "provenance": []
    },
    "kernelspec": {
      "display_name": "Python 3",
      "language": "python",
      "name": "python3"
    },
    "language_info": {
      "codemirror_mode": {
        "name": "ipython",
        "version": 3
      },
      "file_extension": ".py",
      "mimetype": "text/x-python",
      "name": "python",
      "nbconvert_exporter": "python",
      "pygments_lexer": "ipython3",
      "version": "3.11.4"
    }
  },
  "nbformat": 4,
  "nbformat_minor": 0
}
